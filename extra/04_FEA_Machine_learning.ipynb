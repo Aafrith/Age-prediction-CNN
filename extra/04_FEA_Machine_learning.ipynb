{
 "cells": [
  {
   "cell_type": "code",
   "execution_count": null,
   "id": "fbef3feb",
   "metadata": {},
   "outputs": [],
   "source": [
    "!pip install tensorflow"
   ]
  },
  {
   "cell_type": "code",
   "execution_count": null,
   "id": "e13686c7",
   "metadata": {},
   "outputs": [],
   "source": [
    "import numpy as np\n",
    "import pandas as pd\n",
    "import matplotlib.pyplot as plt\n",
    "import seaborn as sns\n",
    "from sklearn.model_selection import train_test_split\n",
    "from sklearn.preprocessing import LabelEncoder\n",
    "from sklearn.metrics import classification_report, cohen_kappa_score, roc_auc_score\n",
    "import tensorflow as tf\n",
    "from tensorflow.keras.models import Sequential\n",
    "from tensorflow.keras.layers import Conv2D, MaxPooling2D, Flatten, Dense, Dropout\n",
    "from tensorflow.keras.utils import to_categorical\n",
    "import pickle"
   ]
  },
  {
   "cell_type": "code",
   "execution_count": null,
   "id": "f727134f",
   "metadata": {},
   "outputs": [],
   "source": [
    "# Load numpy array\n",
    "data = np.load('./AP_data/expression_data_pca_50_target.npz', allow_pickle=True)\n",
    "X = data['arr_0']  # PCA data with 50 components\n",
    "y = data['arr_1']  # Target or dependent variable\n",
    "\n",
    "# Convert the flattened images back to 2D (100x100)\n",
    "X = X.reshape(-1, 100, 100, 1)\n",
    "\n",
    "# Encode labels to integers\n",
    "le = LabelEncoder()\n",
    "y_encoded = le.fit_transform(y)\n",
    "y_categorical = to_categorical(y_encoded)\n",
    "\n",
    "# Split the data into train and test\n",
    "x_train, x_test, y_train, y_test = train_test_split(X, y_categorical, test_size=0.2, stratify=y_categorical)\n",
    "print(x_train.shape, x_test.shape, y_train.shape, y_test.shape)\n"
   ]
  },
  {
   "cell_type": "code",
   "execution_count": null,
   "id": "993fcd51",
   "metadata": {},
   "outputs": [],
   "source": [
    "# Define the CNN model\n",
    "model = Sequential([\n",
    "    Conv2D(32, (3, 3), activation='relu', input_shape=(100, 100, 1)),\n",
    "    MaxPooling2D((2, 2)),\n",
    "    Conv2D(64, (3, 3), activation='relu'),\n",
    "    MaxPooling2D((2, 2)),\n",
    "    Conv2D(128, (3, 3), activation='relu'),\n",
    "    MaxPooling2D((2, 2)),\n",
    "    Flatten(),\n",
    "    Dense(128, activation='relu'),\n",
    "    Dropout(0.5),\n",
    "    Dense(len(le.classes_), activation='softmax')  # Adjust the output layer based on the number of classes\n",
    "])\n",
    "\n",
    "model.compile(optimizer='adam', loss='categorical_crossentropy', metrics=['accuracy'])\n",
    "\n",
    "model.summary()\n"
   ]
  },
  {
   "cell_type": "code",
   "execution_count": null,
   "id": "10385f77",
   "metadata": {},
   "outputs": [],
   "source": [
    "# Train the CNN model\n",
    "history = model.fit(x_train, y_train, epochs=20, batch_size=32, validation_data=(x_test, y_test))\n"
   ]
  },
  {
   "cell_type": "code",
   "execution_count": null,
   "id": "971d3c8f",
   "metadata": {},
   "outputs": [],
   "source": [
    "# Evaluate the model\n",
    "y_pred = model.predict(x_test)\n",
    "y_pred_classes = np.argmax(y_pred, axis=1)\n",
    "y_test_classes = np.argmax(y_test, axis=1)\n",
    "\n",
    "# Classification Report\n",
    "cr = classification_report(y_test_classes, y_pred_classes, target_names=le.classes_)\n",
    "print(cr)\n",
    "\n",
    "# Kappa Score\n",
    "kappa_score = cohen_kappa_score(y_test_classes, y_pred_classes)\n",
    "print(f\"Kappa Score: {kappa_score}\")\n",
    "\n",
    "# AUC Score (for multi-class, you might need to calculate AUC for each class separately)\n",
    "auc_scores = roc_auc_score(y_test, y_pred, multi_class='ovr')\n",
    "print(f\"AUC Score: {auc_scores}\")\n"
   ]
  },
  {
   "cell_type": "code",
   "execution_count": null,
   "id": "7e496f9f",
   "metadata": {},
   "outputs": [],
   "source": [
    "# Save the model\n",
    "model.save('./AP_model/cnn_model.h5')\n",
    "\n",
    "# Save the label encoder\n",
    "with open('./AP_model/label_encoder.pkl', 'wb') as f:\n",
    "    pickle.dump(le, f)\n"
   ]
  },
  {
   "cell_type": "code",
   "execution_count": null,
   "id": "5362da5c",
   "metadata": {},
   "outputs": [],
   "source": [
    "# Plot training history\n",
    "plt.figure(figsize=(12, 4))\n",
    "\n",
    "plt.subplot(1, 2, 1)\n",
    "plt.plot(history.history['accuracy'], label='train_accuracy')\n",
    "plt.plot(history.history['val_accuracy'], label='val_accuracy')\n",
    "plt.title('Accuracy')\n",
    "plt.xlabel('Epochs')\n",
    "plt.ylabel('Accuracy')\n",
    "plt.legend()\n",
    "\n",
    "plt.subplot(1, 2, 2)\n",
    "plt.plot(history.history['loss'], label='train_loss')\n",
    "plt.plot(history.history['val_loss'], label='val_loss')\n",
    "plt.title('Loss')\n",
    "plt.xlabel('Epochs')\n",
    "plt.ylabel('Loss')\n",
    "plt.legend()\n",
    "\n",
    "plt.show()\n"
   ]
  },
  {
   "cell_type": "code",
   "execution_count": null,
   "id": "e1447828",
   "metadata": {},
   "outputs": [],
   "source": [
    "# # load numpy array\n",
    "# data = np.load('./AP_data/expression_data_pca_50_target.npz')\n",
    "# data.files"
   ]
  },
  {
   "cell_type": "code",
   "execution_count": null,
   "id": "e374ceb1",
   "metadata": {},
   "outputs": [],
   "source": [
    "# data.allow_pickle = True"
   ]
  },
  {
   "cell_type": "code",
   "execution_count": null,
   "id": "3a87eb87",
   "metadata": {},
   "outputs": [],
   "source": [
    "# X = data['arr_0'] # pca data with 50 components\n",
    "# y = data['arr_1'] # target or dependent variable"
   ]
  },
  {
   "cell_type": "code",
   "execution_count": null,
   "id": "b4782644",
   "metadata": {},
   "outputs": [],
   "source": [
    "# X.shape,y.shape"
   ]
  },
  {
   "cell_type": "code",
   "execution_count": null,
   "id": "a620abdf",
   "metadata": {},
   "outputs": [],
   "source": [
    "# X"
   ]
  },
  {
   "cell_type": "code",
   "execution_count": null,
   "id": "2f72d588",
   "metadata": {},
   "outputs": [],
   "source": [
    "# y"
   ]
  },
  {
   "cell_type": "markdown",
   "id": "9fe7f916",
   "metadata": {},
   "source": [
    "### split the data into train and test"
   ]
  },
  {
   "cell_type": "code",
   "execution_count": null,
   "id": "99a552f1",
   "metadata": {},
   "outputs": [],
   "source": [
    "# x_train,x_test, y_train, y_test = train_test_split(X,y,test_size=0.2,stratify=y)\n",
    "\n",
    "# print(x_train.shape, x_test.shape, y_train.shape, y_test.shape)"
   ]
  },
  {
   "cell_type": "markdown",
   "id": "d72e2656",
   "metadata": {},
   "source": [
    "### training machine learning model"
   ]
  },
  {
   "cell_type": "code",
   "execution_count": null,
   "id": "b0bfaa33",
   "metadata": {},
   "outputs": [],
   "source": [
    "# model_svc = SVC(probability=True)\n",
    "\n",
    "# param_grid = {'C':[0.5,1,10,20,30,50],\n",
    "#              'kernel':['rbf','poly'],\n",
    "#              'gamma':[0.1,0.05,0.01,0.001,0.002,0.005],\n",
    "#              'coef0':[0,1]}"
   ]
  },
  {
   "cell_type": "code",
   "execution_count": null,
   "id": "9c5805ab",
   "metadata": {},
   "outputs": [],
   "source": [
    "# model_grid = GridSearchCV(model_svc,\n",
    "#                           param_grid=param_grid,\n",
    "#                           scoring='accuracy',cv=3,verbose=2)"
   ]
  },
  {
   "cell_type": "code",
   "execution_count": null,
   "id": "1815336c",
   "metadata": {},
   "outputs": [],
   "source": [
    "# model_grid.fit(x_train,y_train)"
   ]
  },
  {
   "cell_type": "code",
   "execution_count": null,
   "id": "a1c8c3ac",
   "metadata": {},
   "outputs": [],
   "source": [
    "# model_grid.best_params_"
   ]
  },
  {
   "cell_type": "code",
   "execution_count": null,
   "id": "50cc6c65",
   "metadata": {},
   "outputs": [],
   "source": [
    "# model_final = model_grid.best_estimator_"
   ]
  },
  {
   "cell_type": "code",
   "execution_count": null,
   "id": "ff79a814",
   "metadata": {},
   "outputs": [],
   "source": [
    "# model_final.get_params()"
   ]
  },
  {
   "cell_type": "markdown",
   "id": "ed19c6ad",
   "metadata": {},
   "source": [
    "### Model Evaluation\n",
    "- Classification Report\n",
    "    - Precision, Recall, F1-Score\n",
    "- Kappa Score\n",
    "    - -ve (worst model)\n",
    "    - 0 to 0.5 (bad model)\n",
    "    - 0.5 to 0.7 (Good Model)\n",
    "    - 0.7 to 0.9 (Excellent Model)\n",
    "    - 0.9 to 1.0 (Perfect Model)\n",
    "- AUC\n",
    "    - Less than 0.5 (Worst Model)\n",
    "    - 0.5 to 0.6 (Bad Model)\n",
    "    - 0.6 to 0.8 (Good Model)\n",
    "    - 0.8 to 0.9 (Excellent Model)\n",
    "    - 0.9 to 1.0 (Perfect Model)"
   ]
  },
  {
   "cell_type": "code",
   "execution_count": null,
   "id": "014ce0eb",
   "metadata": {},
   "outputs": [],
   "source": [
    "# y_pred = model_final.predict(x_test) # predicted values"
   ]
  },
  {
   "cell_type": "code",
   "execution_count": null,
   "id": "2eaf36e3",
   "metadata": {},
   "outputs": [],
   "source": [
    "# y_pred"
   ]
  },
  {
   "cell_type": "markdown",
   "id": "70b94646",
   "metadata": {},
   "source": [
    "**Classification Report**"
   ]
  },
  {
   "cell_type": "code",
   "execution_count": null,
   "id": "1e9157ab",
   "metadata": {},
   "outputs": [],
   "source": [
    "# cr = metrics.classification_report(y_test,y_pred,output_dict=True)\n",
    "# pd.DataFrame(cr).T"
   ]
  },
  {
   "cell_type": "markdown",
   "id": "77e9b417",
   "metadata": {},
   "source": [
    "**Kappa Score**"
   ]
  },
  {
   "cell_type": "code",
   "execution_count": null,
   "id": "69e524d7",
   "metadata": {},
   "outputs": [],
   "source": [
    "# metrics.cohen_kappa_score(y_test,y_pred)"
   ]
  },
  {
   "cell_type": "markdown",
   "id": "aedd54d4",
   "metadata": {},
   "source": [
    "**Area Under Curve (AUC)**"
   ]
  },
  {
   "cell_type": "code",
   "execution_count": null,
   "id": "1a287288",
   "metadata": {},
   "outputs": [],
   "source": [
    "# metrics.roc_auc_score(np.where(y_test==\"sad\",1,0),\n",
    "#                       np.where(y_pred==\"sad\",1,0))"
   ]
  },
  {
   "cell_type": "markdown",
   "id": "5fd227a5",
   "metadata": {},
   "source": [
    "#### Save Face Recognition Model"
   ]
  },
  {
   "cell_type": "code",
   "execution_count": null,
   "id": "eb27566f",
   "metadata": {},
   "outputs": [],
   "source": [
    "# import pickle"
   ]
  },
  {
   "cell_type": "code",
   "execution_count": null,
   "id": "fa9cfb56",
   "metadata": {},
   "outputs": [],
   "source": [
    "# pickle.dump(model_final,open('./FEA_model/model_svm.pickle',mode='wb'))"
   ]
  },
  {
   "cell_type": "code",
   "execution_count": null,
   "id": "aaf31f35",
   "metadata": {},
   "outputs": [],
   "source": []
  },
  {
   "cell_type": "code",
   "execution_count": null,
   "id": "258c70e2",
   "metadata": {},
   "outputs": [],
   "source": []
  },
  {
   "cell_type": "code",
   "execution_count": null,
   "id": "b97a273a",
   "metadata": {},
   "outputs": [],
   "source": []
  },
  {
   "cell_type": "code",
   "execution_count": null,
   "id": "3759f558",
   "metadata": {},
   "outputs": [],
   "source": []
  },
  {
   "cell_type": "code",
   "execution_count": null,
   "id": "77c96196",
   "metadata": {},
   "outputs": [],
   "source": []
  },
  {
   "cell_type": "code",
   "execution_count": null,
   "id": "7284ebc0",
   "metadata": {},
   "outputs": [],
   "source": []
  },
  {
   "cell_type": "code",
   "execution_count": null,
   "id": "94f0b77c",
   "metadata": {},
   "outputs": [],
   "source": []
  },
  {
   "cell_type": "code",
   "execution_count": null,
   "id": "b1d5a664",
   "metadata": {},
   "outputs": [],
   "source": []
  },
  {
   "cell_type": "code",
   "execution_count": null,
   "id": "91306ce2",
   "metadata": {},
   "outputs": [],
   "source": []
  },
  {
   "cell_type": "code",
   "execution_count": null,
   "id": "2d111957",
   "metadata": {},
   "outputs": [],
   "source": []
  },
  {
   "cell_type": "code",
   "execution_count": null,
   "id": "2132f2e6",
   "metadata": {},
   "outputs": [],
   "source": []
  },
  {
   "cell_type": "code",
   "execution_count": null,
   "id": "981f6422",
   "metadata": {},
   "outputs": [],
   "source": []
  },
  {
   "cell_type": "code",
   "execution_count": null,
   "id": "dea62b86",
   "metadata": {},
   "outputs": [],
   "source": [
    "import matplotlib.pyplot as plt\n",
    "import seaborn as sns"
   ]
  },
  {
   "cell_type": "code",
   "execution_count": null,
   "id": "0a3b181e",
   "metadata": {},
   "outputs": [],
   "source": [
    "cv_results = pd.DataFrame(model_grid.cv_results_)"
   ]
  },
  {
   "cell_type": "code",
   "execution_count": null,
   "id": "c5293ea8",
   "metadata": {},
   "outputs": [],
   "source": [
    "param = ['param_C','param_coef0','param_gamma','param_kernel']\n",
    "cv_results = cv_results[param+['mean_test_score']]\n",
    "cv_results[param] = cv_results[param].astype(str)"
   ]
  },
  {
   "cell_type": "code",
   "execution_count": null,
   "id": "5df75558",
   "metadata": {},
   "outputs": [],
   "source": [
    "plt.figure(figsize=(10,10))\n",
    "for i, par in enumerate(param):\n",
    "    plt.subplot(2,2,i+1)\n",
    "    sns.kdeplot(data=cv_results,x='mean_test_score',hue=par)"
   ]
  },
  {
   "cell_type": "code",
   "execution_count": null,
   "id": "420525d0",
   "metadata": {},
   "outputs": [],
   "source": [
    "model_grid.best_params_"
   ]
  },
  {
   "cell_type": "code",
   "execution_count": null,
   "id": "856f4b4f",
   "metadata": {},
   "outputs": [],
   "source": []
  },
  {
   "cell_type": "code",
   "execution_count": null,
   "id": "5c15608c",
   "metadata": {},
   "outputs": [],
   "source": []
  },
  {
   "cell_type": "code",
   "execution_count": null,
   "id": "e9f69bce",
   "metadata": {},
   "outputs": [],
   "source": []
  },
  {
   "cell_type": "code",
   "execution_count": null,
   "id": "12978fa4",
   "metadata": {},
   "outputs": [],
   "source": []
  }
 ],
 "metadata": {
  "kernelspec": {
   "display_name": "Python 3 (ipykernel)",
   "language": "python",
   "name": "python3"
  },
  "language_info": {
   "codemirror_mode": {
    "name": "ipython",
    "version": 3
   },
   "file_extension": ".py",
   "mimetype": "text/x-python",
   "name": "python",
   "nbconvert_exporter": "python",
   "pygments_lexer": "ipython3",
   "version": "3.8.10"
  }
 },
 "nbformat": 4,
 "nbformat_minor": 5
}
