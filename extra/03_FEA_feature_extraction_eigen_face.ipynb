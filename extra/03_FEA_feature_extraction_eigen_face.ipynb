{
 "cells": [
  {
   "cell_type": "code",
   "execution_count": null,
   "id": "87e8444a",
   "metadata": {},
   "outputs": [],
   "source": [
    "import numpy as np\n",
    "import pandas as pd\n",
    "import matplotlib.pyplot as plt\n",
    "\n",
    "import cv2\n",
    "\n",
    "## Eigen Face\n",
    "from sklearn.decomposition import PCA \n",
    "\n",
    "import pickle"
   ]
  },
  {
   "cell_type": "code",
   "execution_count": null,
   "id": "034a5ee7",
   "metadata": {},
   "outputs": [],
   "source": [
    "# Load the data\n",
    "data = pickle.load(open('./AP_data/expression_data_images_100_100.pickle',mode='rb')) # load the data"
   ]
  },
  {
   "cell_type": "code",
   "execution_count": null,
   "id": "54a88de0",
   "metadata": {},
   "outputs": [],
   "source": [
    "data.head()"
   ]
  },
  {
   "cell_type": "markdown",
   "id": "d446b004",
   "metadata": {},
   "source": [
    "##### Eigen Face"
   ]
  },
  {
   "cell_type": "code",
   "execution_count": null,
   "id": "d486aa6d",
   "metadata": {},
   "outputs": [],
   "source": [
    "# Mean Face\n",
    "X = data.drop('age',axis=1).values # all images"
   ]
  },
  {
   "cell_type": "code",
   "execution_count": null,
   "id": "33d23842",
   "metadata": {},
   "outputs": [],
   "source": [
    "X"
   ]
  },
  {
   "cell_type": "code",
   "execution_count": null,
   "id": "201fb2ad",
   "metadata": {},
   "outputs": [],
   "source": [
    "y = data['age'].values"
   ]
  },
  {
   "cell_type": "markdown",
   "id": "55c2d782",
   "metadata": {},
   "source": [
    "# balancing the dataset"
   ]
  },
  {
   "cell_type": "code",
   "execution_count": null,
   "id": "9c435d9e",
   "metadata": {},
   "outputs": [],
   "source": [
    "from imblearn.over_sampling import RandomOverSampler\n",
    "from imblearn.under_sampling import RandomUnderSampler\n",
    "\n",
    "def balance_dataset(X, y, method='oversample'):\n",
    "    if method == 'oversample':\n",
    "        sampler = RandomOverSampler()\n",
    "    elif method == 'undersample':\n",
    "        sampler = RandomUnderSampler()\n",
    "    else:\n",
    "        raise ValueError(\"Invalid method. Choose either 'oversample' or 'undersample'.\")\n",
    "    \n",
    "    X_resampled, y_resampled = sampler.fit_resample(X, y)\n",
    "    return X_resampled, y_resampled\n",
    "\n",
    "\n",
    "X, y = balance_dataset(X, y, method='oversample')\n",
    "\n"
   ]
  },
  {
   "cell_type": "code",
   "execution_count": null,
   "id": "0c91d61b",
   "metadata": {},
   "outputs": [],
   "source": [
    "dist_expression = pd.DataFrame(y,columns=['age']).expression.value_counts()\n",
    "fig,ax = plt.subplots(nrows=1,ncols=2)\n",
    "dist_expression.plot(kind='bar',ax=ax[0])\n",
    "dist_expression.plot(kind='pie',ax=ax[1],autopct='%0.0f%%')\n",
    "plt.show()"
   ]
  },
  {
   "cell_type": "code",
   "execution_count": null,
   "id": "53ddf7e3",
   "metadata": {},
   "outputs": [],
   "source": [
    "mean_face = X.mean(axis=0) # flatten mean face\n",
    "mean_face.shape"
   ]
  },
  {
   "cell_type": "code",
   "execution_count": null,
   "id": "3eb30d2f",
   "metadata": {},
   "outputs": [],
   "source": [
    "# visualize mean face\n",
    "plt.imshow(mean_face.reshape((100,100)),cmap='gray')\n",
    "plt.axis('off')\n",
    "plt.show()"
   ]
  },
  {
   "cell_type": "markdown",
   "id": "58735e72",
   "metadata": {},
   "source": [
    "**Subtract data with mean face**"
   ]
  },
  {
   "cell_type": "code",
   "execution_count": null,
   "id": "2f89a474",
   "metadata": {},
   "outputs": [],
   "source": [
    "X_t = X - mean_face # transformed data"
   ]
  },
  {
   "cell_type": "code",
   "execution_count": null,
   "id": "b2e1c487",
   "metadata": {},
   "outputs": [],
   "source": [
    "pca = PCA(n_components=None,whiten=True,svd_solver='auto')\n",
    "pca.fit(X_t)"
   ]
  },
  {
   "cell_type": "code",
   "execution_count": null,
   "id": "47f69119",
   "metadata": {},
   "outputs": [],
   "source": [
    "exp_var_df = pd.DataFrame()\n",
    "exp_var_df['explained_var'] = pca.explained_variance_ratio_\n",
    "exp_var_df['cum_explained_var'] = exp_var_df['explained_var'].cumsum()\n",
    "exp_var_df['principal_components'] = np.arange(1,len(exp_var_df)+1)\n",
    "\n",
    "exp_var_df.head()"
   ]
  },
  {
   "cell_type": "code",
   "execution_count": null,
   "id": "9466bf48",
   "metadata": {},
   "outputs": [],
   "source": [
    "exp_var_df.set_index('principal_components',inplace=True)"
   ]
  },
  {
   "cell_type": "code",
   "execution_count": null,
   "id": "8459bacf",
   "metadata": {},
   "outputs": [],
   "source": [
    "# visualize explained variance\n",
    "fig, ax = plt.subplots(nrows=2,figsize=(15,12))\n",
    "\n",
    "exp_var_df['explained_var'].head(100).plot(kind='line',marker='o',ax=ax[0])\n",
    "exp_var_df['cum_explained_var'].head(100).plot(kind='line',marker='o',ax=ax[1])"
   ]
  },
  {
   "cell_type": "markdown",
   "id": "03075077",
   "metadata": {},
   "source": [
    "From above plot, it is clear that with approximately **50 pricipal components having 80%** converage."
   ]
  },
  {
   "cell_type": "code",
   "execution_count": null,
   "id": "c96e8f96",
   "metadata": {},
   "outputs": [],
   "source": [
    "pca_50 = PCA(n_components=50,whiten=True,svd_solver='auto')\n",
    "pca_data = pca_50.fit_transform(X_t)"
   ]
  },
  {
   "cell_type": "code",
   "execution_count": null,
   "id": "a3b042cf",
   "metadata": {},
   "outputs": [],
   "source": [
    "pca_data.shape"
   ]
  },
  {
   "cell_type": "code",
   "execution_count": null,
   "id": "54313298",
   "metadata": {},
   "outputs": [],
   "source": [
    "np.savez('./AP_data/expression_data_pca_50_target',pca_data,y)"
   ]
  },
  {
   "cell_type": "code",
   "execution_count": null,
   "id": "0ed3a43b",
   "metadata": {},
   "outputs": [],
   "source": [
    "# saving the model\n",
    "pca_dict = {'pca':pca_50,'mean_face':mean_face}"
   ]
  },
  {
   "cell_type": "code",
   "execution_count": null,
   "id": "3f0fb760",
   "metadata": {},
   "outputs": [],
   "source": [
    "pickle.dump(pca_dict,open('AP_model/pca_dict.pickle','wb'))"
   ]
  },
  {
   "cell_type": "markdown",
   "id": "725a45c1",
   "metadata": {},
   "source": [
    "### Visualize Eigen Image"
   ]
  },
  {
   "cell_type": "code",
   "execution_count": null,
   "id": "978ce381",
   "metadata": {},
   "outputs": [],
   "source": [
    "pca_data_inv = pca_50.inverse_transform(pca_data)"
   ]
  },
  {
   "cell_type": "code",
   "execution_count": null,
   "id": "e3307bad",
   "metadata": {},
   "outputs": [],
   "source": [
    "pca_data_inv.shape"
   ]
  },
  {
   "cell_type": "code",
   "execution_count": null,
   "id": "f433aeb7",
   "metadata": {},
   "outputs": [],
   "source": [
    "eig_img = pca_data_inv[0,:].reshape((100,100))\n",
    "eig_img.shape"
   ]
  },
  {
   "cell_type": "code",
   "execution_count": null,
   "id": "29e0fdcb",
   "metadata": {},
   "outputs": [],
   "source": [
    "plt.imshow(eig_img,cmap='gray')\n",
    "plt.axis('off')"
   ]
  },
  {
   "cell_type": "code",
   "execution_count": null,
   "id": "b56db4d9",
   "metadata": {},
   "outputs": [],
   "source": [
    "np.random.seed(1001)\n",
    "pics = np.random.randint(0,1519,20)\n",
    "plt.figure(figsize=(15,8))\n",
    "for i,pic in enumerate(pics):\n",
    "    plt.subplot(4,10,i+1)\n",
    "    img = X[pic:pic+1].reshape(100,100)\n",
    "    plt.imshow(img,cmap='gray')\n",
    "    plt.title('{}'.format(y[pic]))\n",
    "    plt.xticks([])\n",
    "    plt.yticks([])\n",
    "plt.show()\n",
    "\n",
    "print(\"=\"*20+'Eigen Images'+\"=\"*20)\n",
    "plt.figure(figsize=(15,8))\n",
    "for i,pic in enumerate(pics):\n",
    "    plt.subplot(4,10,i+1)\n",
    "    img = pca_data_inv[pic:pic+1].reshape(100,100)\n",
    "    plt.imshow(img,cmap='gray')\n",
    "    plt.title('{}'.format(y[pic]))\n",
    "    plt.xticks([])\n",
    "    plt.yticks([])\n",
    "    \n",
    "plt.show()"
   ]
  }
 ],
 "metadata": {
  "kernelspec": {
   "display_name": "Python 3 (ipykernel)",
   "language": "python",
   "name": "python3"
  },
  "language_info": {
   "codemirror_mode": {
    "name": "ipython",
    "version": 3
   },
   "file_extension": ".py",
   "mimetype": "text/x-python",
   "name": "python",
   "nbconvert_exporter": "python",
   "pygments_lexer": "ipython3",
   "version": "3.8.10"
  }
 },
 "nbformat": 4,
 "nbformat_minor": 5
}
